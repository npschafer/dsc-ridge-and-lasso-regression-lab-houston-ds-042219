{
 "cells": [
  {
   "cell_type": "markdown",
   "metadata": {},
   "source": [
    "# Ridge and Lasso Regression - Lab"
   ]
  },
  {
   "cell_type": "markdown",
   "metadata": {},
   "source": [
    "## Introduction"
   ]
  },
  {
   "cell_type": "markdown",
   "metadata": {},
   "source": [
    "In this lab, you'll practice your knowledge on Ridge and Lasso regression!"
   ]
  },
  {
   "cell_type": "markdown",
   "metadata": {},
   "source": [
    "## Objectives"
   ]
  },
  {
   "cell_type": "markdown",
   "metadata": {},
   "source": [
    "You will be able to:"
   ]
  },
  {
   "cell_type": "markdown",
   "metadata": {},
   "source": [
    "- Use Lasso and ridge regression in Python\n",
    "- Compare Lasso and Ridge with standard regression"
   ]
  },
  {
   "cell_type": "markdown",
   "metadata": {},
   "source": [
    "## Housing Prices Data"
   ]
  },
  {
   "cell_type": "markdown",
   "metadata": {},
   "source": [
    "Let's look at yet another house pricing data set."
   ]
  },
  {
   "cell_type": "code",
   "execution_count": 1,
   "metadata": {},
   "outputs": [],
   "source": [
    "import pandas as pd\n",
    "import warnings\n",
    "warnings.filterwarnings('ignore')\n",
    "\n",
    "df = pd.read_csv('Housing_Prices/train.csv')"
   ]
  },
  {
   "cell_type": "markdown",
   "metadata": {},
   "source": [
    "Look at df.info"
   ]
  },
  {
   "cell_type": "code",
   "execution_count": 2,
   "metadata": {},
   "outputs": [
    {
     "name": "stdout",
     "output_type": "stream",
     "text": [
      "<class 'pandas.core.frame.DataFrame'>\n",
      "RangeIndex: 1460 entries, 0 to 1459\n",
      "Data columns (total 81 columns):\n",
      "Id               1460 non-null int64\n",
      "MSSubClass       1460 non-null int64\n",
      "MSZoning         1460 non-null object\n",
      "LotFrontage      1201 non-null float64\n",
      "LotArea          1460 non-null int64\n",
      "Street           1460 non-null object\n",
      "Alley            91 non-null object\n",
      "LotShape         1460 non-null object\n",
      "LandContour      1460 non-null object\n",
      "Utilities        1460 non-null object\n",
      "LotConfig        1460 non-null object\n",
      "LandSlope        1460 non-null object\n",
      "Neighborhood     1460 non-null object\n",
      "Condition1       1460 non-null object\n",
      "Condition2       1460 non-null object\n",
      "BldgType         1460 non-null object\n",
      "HouseStyle       1460 non-null object\n",
      "OverallQual      1460 non-null int64\n",
      "OverallCond      1460 non-null int64\n",
      "YearBuilt        1460 non-null int64\n",
      "YearRemodAdd     1460 non-null int64\n",
      "RoofStyle        1460 non-null object\n",
      "RoofMatl         1460 non-null object\n",
      "Exterior1st      1460 non-null object\n",
      "Exterior2nd      1460 non-null object\n",
      "MasVnrType       1452 non-null object\n",
      "MasVnrArea       1452 non-null float64\n",
      "ExterQual        1460 non-null object\n",
      "ExterCond        1460 non-null object\n",
      "Foundation       1460 non-null object\n",
      "BsmtQual         1423 non-null object\n",
      "BsmtCond         1423 non-null object\n",
      "BsmtExposure     1422 non-null object\n",
      "BsmtFinType1     1423 non-null object\n",
      "BsmtFinSF1       1460 non-null int64\n",
      "BsmtFinType2     1422 non-null object\n",
      "BsmtFinSF2       1460 non-null int64\n",
      "BsmtUnfSF        1460 non-null int64\n",
      "TotalBsmtSF      1460 non-null int64\n",
      "Heating          1460 non-null object\n",
      "HeatingQC        1460 non-null object\n",
      "CentralAir       1460 non-null object\n",
      "Electrical       1459 non-null object\n",
      "1stFlrSF         1460 non-null int64\n",
      "2ndFlrSF         1460 non-null int64\n",
      "LowQualFinSF     1460 non-null int64\n",
      "GrLivArea        1460 non-null int64\n",
      "BsmtFullBath     1460 non-null int64\n",
      "BsmtHalfBath     1460 non-null int64\n",
      "FullBath         1460 non-null int64\n",
      "HalfBath         1460 non-null int64\n",
      "BedroomAbvGr     1460 non-null int64\n",
      "KitchenAbvGr     1460 non-null int64\n",
      "KitchenQual      1460 non-null object\n",
      "TotRmsAbvGrd     1460 non-null int64\n",
      "Functional       1460 non-null object\n",
      "Fireplaces       1460 non-null int64\n",
      "FireplaceQu      770 non-null object\n",
      "GarageType       1379 non-null object\n",
      "GarageYrBlt      1379 non-null float64\n",
      "GarageFinish     1379 non-null object\n",
      "GarageCars       1460 non-null int64\n",
      "GarageArea       1460 non-null int64\n",
      "GarageQual       1379 non-null object\n",
      "GarageCond       1379 non-null object\n",
      "PavedDrive       1460 non-null object\n",
      "WoodDeckSF       1460 non-null int64\n",
      "OpenPorchSF      1460 non-null int64\n",
      "EnclosedPorch    1460 non-null int64\n",
      "3SsnPorch        1460 non-null int64\n",
      "ScreenPorch      1460 non-null int64\n",
      "PoolArea         1460 non-null int64\n",
      "PoolQC           7 non-null object\n",
      "Fence            281 non-null object\n",
      "MiscFeature      54 non-null object\n",
      "MiscVal          1460 non-null int64\n",
      "MoSold           1460 non-null int64\n",
      "YrSold           1460 non-null int64\n",
      "SaleType         1460 non-null object\n",
      "SaleCondition    1460 non-null object\n",
      "SalePrice        1460 non-null int64\n",
      "dtypes: float64(3), int64(35), object(43)\n",
      "memory usage: 924.0+ KB\n"
     ]
    }
   ],
   "source": [
    "df.info()"
   ]
  },
  {
   "cell_type": "markdown",
   "metadata": {},
   "source": [
    "First, make a selection of the data by removing some of the data with `dtype = object`, this way our first model only contains **continuous features**\n",
    "\n",
    "Make sure to remove the SalesPrice column from the predictors (which you store in `X`), then replace missing inputs by the median per feature.\n",
    "\n",
    "Store the target in `y`."
   ]
  },
  {
   "cell_type": "code",
   "execution_count": 4,
   "metadata": {},
   "outputs": [],
   "source": [
    "# Load necessary packages\n",
    "import pandas as pd\n",
    "import numpy as np\n",
    "import matplotlib.pyplot as plt\n",
    "\n",
    "X = pd.DataFrame()\n",
    "\n",
    "# remove \"object\"-type features and SalesPrice from `X`\n",
    "for column_type, column in zip(df.dtypes, df.columns):\n",
    "    if not column_type == object and not column == \"SalePrice\":\n",
    "        X[column] = df[column]\n",
    "\n",
    "# Impute null values\n",
    "for column in X.columns:\n",
    "    X[column] = X[column].fillna(X[column].median())\n",
    "\n",
    "# Create y\n",
    "y = df[\"SalePrice\"]"
   ]
  },
  {
   "cell_type": "markdown",
   "metadata": {},
   "source": [
    "Look at the information of `X` again"
   ]
  },
  {
   "cell_type": "markdown",
   "metadata": {},
   "source": [
    "## Let's use this data to perform a first naive linear regression model"
   ]
  },
  {
   "cell_type": "markdown",
   "metadata": {},
   "source": [
    "Compute the R squared and the MSE for both train and test set."
   ]
  },
  {
   "cell_type": "code",
   "execution_count": 6,
   "metadata": {},
   "outputs": [
    {
     "name": "stdout",
     "output_type": "stream",
     "text": [
      "0.8118554543955105\n",
      "0.784969688929444\n",
      "1090644660.2119064\n",
      "1578621667.95895\n"
     ]
    }
   ],
   "source": [
    "from sklearn.metrics import mean_squared_error, mean_squared_log_error\n",
    "\n",
    "# Split in train and test\n",
    "from sklearn.model_selection import train_test_split\n",
    "X_train, X_test, y_train, y_test = train_test_split(X, y, test_size=0.33, random_state=42)\n",
    "\n",
    "\n",
    "# Fit the model and print R2 and MSE for train and test\n",
    "from sklearn.linear_model import LinearRegression\n",
    "reg = LinearRegression()\n",
    "reg.fit(X_train, y_train)\n",
    "\n",
    "print(reg.score(X_train, y_train))\n",
    "print(reg.score(X_test, y_test))\n",
    "\n",
    "y_pred = reg.predict(X_train)\n",
    "print(mean_squared_error(y_train, y_pred))\n",
    "\n",
    "y_pred = reg.predict(X_test)\n",
    "print(mean_squared_error(y_test, y_pred))"
   ]
  },
  {
   "cell_type": "markdown",
   "metadata": {},
   "source": [
    "## Normalize your data"
   ]
  },
  {
   "cell_type": "markdown",
   "metadata": {},
   "source": [
    "We haven't normalized our data, let's create a new model that uses `preprocessing.scale` to scale our predictors!"
   ]
  },
  {
   "cell_type": "code",
   "execution_count": 8,
   "metadata": {},
   "outputs": [],
   "source": [
    "from sklearn import preprocessing\n",
    "\n",
    "# Scale the data and perform train test split\n",
    "X_scaled = preprocessing.scale(X)\n",
    "y_scaled = preprocessing.scale(y)\n",
    "\n",
    "X_train, X_test, y_train, y_test = train_test_split(X_scaled, y_scaled, test_size=0.33, random_state=42)"
   ]
  },
  {
   "cell_type": "code",
   "execution_count": null,
   "metadata": {},
   "outputs": [],
   "source": []
  },
  {
   "cell_type": "markdown",
   "metadata": {},
   "source": [
    "Perform the same linear regression on this data and print out R-squared and MSE."
   ]
  },
  {
   "cell_type": "code",
   "execution_count": 9,
   "metadata": {},
   "outputs": [
    {
     "name": "stdout",
     "output_type": "stream",
     "text": [
      "0.8118780879248153\n",
      "0.7846447529160908\n",
      "0.1729110532889931\n",
      "0.2506833912385795\n"
     ]
    }
   ],
   "source": [
    "reg = LinearRegression()\n",
    "reg.fit(X_train, y_train)\n",
    "\n",
    "print(reg.score(X_train, y_train))\n",
    "print(reg.score(X_test, y_test))\n",
    "\n",
    "y_pred = reg.predict(X_train)\n",
    "print(mean_squared_error(y_train, y_pred))\n",
    "\n",
    "y_pred = reg.predict(X_test)\n",
    "print(mean_squared_error(y_test, y_pred))"
   ]
  },
  {
   "cell_type": "markdown",
   "metadata": {},
   "source": [
    "## Include dummy variables"
   ]
  },
  {
   "cell_type": "markdown",
   "metadata": {},
   "source": [
    "Your model hasn't included dummy variables so far: let's use the \"object\" variables again and create dummies"
   ]
  },
  {
   "cell_type": "code",
   "execution_count": 41,
   "metadata": {},
   "outputs": [],
   "source": [
    "df_cat = pd.DataFrame()\n",
    "for column_type, column in zip(df.dtypes, df.columns):\n",
    "    if column_type == np.object:\n",
    "        df_cat[column] = df[column]"
   ]
  },
  {
   "cell_type": "code",
   "execution_count": 42,
   "metadata": {},
   "outputs": [],
   "source": [
    "# Create X_cat which contains only the categorical variables\n",
    "X_cat = pd.get_dummies(df_cat)"
   ]
  },
  {
   "cell_type": "code",
   "execution_count": 43,
   "metadata": {},
   "outputs": [],
   "source": [
    "# Make dummies\n"
   ]
  },
  {
   "cell_type": "markdown",
   "metadata": {},
   "source": [
    "Merge `x_cat` together with our scaled `X` so you have one big predictor dataframe."
   ]
  },
  {
   "cell_type": "code",
   "execution_count": 44,
   "metadata": {},
   "outputs": [],
   "source": [
    "X_all = pd.concat([pd.DataFrame(X_scaled), X_cat], axis=1)"
   ]
  },
  {
   "cell_type": "markdown",
   "metadata": {},
   "source": [
    "Perform the same linear regression on this data and print out R-squared and MSE."
   ]
  },
  {
   "cell_type": "code",
   "execution_count": 45,
   "metadata": {},
   "outputs": [
    {
     "data": {
      "text/plain": [
       "(1460, 252)"
      ]
     },
     "execution_count": 45,
     "metadata": {},
     "output_type": "execute_result"
    }
   ],
   "source": [
    "X_cat.shape"
   ]
  },
  {
   "cell_type": "code",
   "execution_count": 46,
   "metadata": {},
   "outputs": [
    {
     "name": "stdout",
     "output_type": "stream",
     "text": [
      "0.9383764315887964\n",
      "-3.485321417601015e+17\n",
      "357222238.97028375\n",
      "2.558710854406494e+27\n"
     ]
    }
   ],
   "source": [
    "X_train, X_test, y_train, y_test = train_test_split(X_all, y, test_size=0.33, random_state=42)\n",
    "reg = LinearRegression()\n",
    "reg.fit(X_train, y_train)\n",
    "\n",
    "print(reg.score(X_train, y_train))\n",
    "print(reg.score(X_test, y_test))\n",
    "\n",
    "y_pred = reg.predict(X_train)\n",
    "print(mean_squared_error(y_train, y_pred))\n",
    "\n",
    "y_pred = reg.predict(X_test)\n",
    "print(mean_squared_error(y_test, y_pred))"
   ]
  },
  {
   "cell_type": "markdown",
   "metadata": {},
   "source": [
    "Notice the severe overfitting above; our training R squared is quite high, but the testing R squared is negative! Our predictions are far off. Similarly, the scale of the Testing MSE is orders of magnitude higher than that of the training."
   ]
  },
  {
   "cell_type": "markdown",
   "metadata": {},
   "source": [
    "## Perform Ridge and Lasso regression"
   ]
  },
  {
   "cell_type": "markdown",
   "metadata": {},
   "source": [
    "Use all the data (normalized features and dummy categorical variables) and perform Lasso and Ridge regression for both! Each time, look at R-squared and MSE."
   ]
  },
  {
   "cell_type": "markdown",
   "metadata": {},
   "source": [
    "## Lasso"
   ]
  },
  {
   "cell_type": "markdown",
   "metadata": {},
   "source": [
    "With default parameter (alpha = 1)"
   ]
  },
  {
   "cell_type": "code",
   "execution_count": 47,
   "metadata": {},
   "outputs": [],
   "source": [
    "from sklearn.linear_model import Lasso, Ridge"
   ]
  },
  {
   "cell_type": "code",
   "execution_count": 54,
   "metadata": {},
   "outputs": [
    {
     "name": "stdout",
     "output_type": "stream",
     "text": [
      "0.9383429913678842\n",
      "0.8799341162729882\n",
      "357416086.7284369\n",
      "881450641.4954165\n"
     ]
    }
   ],
   "source": [
    "X_train, X_test, y_train, y_test = train_test_split(X_all, y, test_size=0.33, random_state=42)\n",
    "lasso = Lasso(alpha=1)\n",
    "lasso.fit(X_train, y_train)\n",
    "print(lasso.score(X_train, y_train))\n",
    "print(lasso.score(X_test, y_test))\n",
    "\n",
    "y_pred = lasso.predict(X_train)\n",
    "print(mean_squared_error(y_train, y_pred))\n",
    "\n",
    "y_pred = lasso.predict(X_test)\n",
    "print(mean_squared_error(y_test, y_pred))"
   ]
  },
  {
   "cell_type": "markdown",
   "metadata": {},
   "source": [
    "With a higher regularization parameter (alpha = 10)"
   ]
  },
  {
   "cell_type": "code",
   "execution_count": 55,
   "metadata": {},
   "outputs": [
    {
     "name": "stdout",
     "output_type": "stream",
     "text": [
      "0.9363299390224195\n",
      "0.8906232536247098\n",
      "369085437.99373275\n",
      "802977500.8892994\n"
     ]
    }
   ],
   "source": [
    "lasso = Lasso(alpha=10)\n",
    "lasso.fit(X_train, y_train)\n",
    "print(lasso.score(X_train, y_train))\n",
    "print(lasso.score(X_test, y_test))\n",
    "\n",
    "y_pred = lasso.predict(X_train)\n",
    "print(mean_squared_error(y_train, y_pred))\n",
    "\n",
    "y_pred = lasso.predict(X_test)\n",
    "print(mean_squared_error(y_test, y_pred))"
   ]
  },
  {
   "cell_type": "markdown",
   "metadata": {},
   "source": [
    "## Ridge"
   ]
  },
  {
   "cell_type": "markdown",
   "metadata": {},
   "source": [
    "With default parameter (alpha = 1)"
   ]
  },
  {
   "cell_type": "code",
   "execution_count": 56,
   "metadata": {},
   "outputs": [
    {
     "name": "stdout",
     "output_type": "stream",
     "text": [
      "0.9241379330026552\n",
      "0.8643679188115277\n",
      "439760600.114456\n",
      "995728189.0562645\n"
     ]
    }
   ],
   "source": [
    "X_train, X_test, y_train, y_test = train_test_split(X_all, y, test_size=0.33, random_state=42)\n",
    "ridge = Ridge(alpha=1)\n",
    "ridge.fit(X_train, y_train)\n",
    "print(ridge.score(X_train, y_train))\n",
    "print(ridge.score(X_test, y_test))\n",
    "\n",
    "y_pred = ridge.predict(X_train)\n",
    "print(mean_squared_error(y_train, y_pred))\n",
    "\n",
    "y_pred = ridge.predict(X_test)\n",
    "print(mean_squared_error(y_test, y_pred))"
   ]
  },
  {
   "cell_type": "markdown",
   "metadata": {},
   "source": [
    "With default parameter (alpha = 10)"
   ]
  },
  {
   "cell_type": "code",
   "execution_count": 57,
   "metadata": {},
   "outputs": [
    {
     "name": "stdout",
     "output_type": "stream",
     "text": [
      "0.9037681391933872\n",
      "0.8481665001951825\n",
      "557841125.7885724\n",
      "1114669143.7156472\n"
     ]
    }
   ],
   "source": [
    "X_train, X_test, y_train, y_test = train_test_split(X_all, y, test_size=0.33, random_state=42)\n",
    "ridge = Ridge(alpha=10)\n",
    "ridge.fit(X_train, y_train)\n",
    "print(ridge.score(X_train, y_train))\n",
    "print(ridge.score(X_test, y_test))\n",
    "\n",
    "y_pred = ridge.predict(X_train)\n",
    "print(mean_squared_error(y_train, y_pred))\n",
    "\n",
    "y_pred = ridge.predict(X_test)\n",
    "print(mean_squared_error(y_test, y_pred))"
   ]
  },
  {
   "cell_type": "markdown",
   "metadata": {},
   "source": [
    "## Look at the metrics, what are your main conclusions?   \n",
    "\n",
    "Conclusions here"
   ]
  },
  {
   "cell_type": "markdown",
   "metadata": {},
   "source": [
    "## Compare number of parameter estimates that are (very close to) 0 for Ridge and Lasso"
   ]
  },
  {
   "cell_type": "markdown",
   "metadata": {},
   "source": [
    "Compare with the total length of the parameter space and draw conclusions!"
   ]
  },
  {
   "cell_type": "code",
   "execution_count": 58,
   "metadata": {},
   "outputs": [
    {
     "data": {
      "text/plain": [
       "array([-7.70726244e+02, -5.18993725e+03, -3.55568450e+03,  4.40821458e+03,\n",
       "        1.38533736e+04,  4.21651577e+03,  3.70389864e+03,  1.97774941e+03,\n",
       "        3.50391651e+03, -2.80494406e+02,  1.00286655e+03,  1.51078599e+02,\n",
       "        2.29323363e+02,  3.30325038e+03,  8.71953582e+03,  1.47325962e+03,\n",
       "        9.80998723e+03,  4.62778339e+03, -3.11669495e+01,  4.42888861e+03,\n",
       "        2.35982194e+03, -1.85607515e+03, -2.90198758e+03,  8.77187606e+03,\n",
       "        3.31230956e+03, -1.30405535e+03,  9.22386780e+03,  1.50605294e+03,\n",
       "        2.65702013e+03, -8.44713754e+02,  1.39652114e+03,  1.71057865e+03,\n",
       "        3.74162621e+03, -3.62008740e+03, -1.42393922e+02, -1.15149470e+02,\n",
       "       -3.45321484e+01, -4.37461584e+03,  5.93922687e+03, -9.00120552e+02,\n",
       "        2.83464790e+03, -3.49913838e+03, -5.60064822e+03,  5.60064822e+03,\n",
       "       -1.18811458e+03,  6.23200131e+03,  4.17784814e+02,  5.10293538e+03,\n",
       "       -6.65940657e+03,  1.13868638e+03, -1.44332308e+04,  1.34940474e+04,\n",
       "       -1.67877707e+03,  2.61796044e+03,  3.48787658e+03, -3.48787658e+03,\n",
       "       -2.91805714e+02,  8.74447355e+03, -5.69976906e+03, -1.94647949e+03,\n",
       "       -8.06419292e+02, -2.08019318e+03,  4.68562710e+03, -2.60543392e+03,\n",
       "       -5.74947191e+03, -6.48775714e+02,  2.91414820e+03,  4.79238993e+03,\n",
       "       -2.36954528e+03, -5.61266466e+03,  1.18875776e+04, -1.38914560e+04,\n",
       "       -7.50925596e+03, -6.12884101e+03, -1.48678968e+03, -1.05496723e+04,\n",
       "       -8.82284172e+03,  4.36125624e+02, -6.92488637e+03,  2.10409865e+04,\n",
       "        1.85509046e+04, -5.98114190e+03, -2.79856010e+03, -3.01854606e+03,\n",
       "       -3.18916789e+03,  2.55004970e+03,  2.45470868e+04, -5.96810766e+03,\n",
       "        3.93045529e+03,  2.01648621e+02, -1.16560655e+03,  9.84493493e+03,\n",
       "       -5.55936540e+02, -4.32761504e+03, -6.95729572e+03,  2.75827847e+03,\n",
       "        6.80688376e+02, -4.79096536e+02,  3.80741867e+03,  1.33770837e+03,\n",
       "        1.27625433e+04,  0.00000000e+00, -1.95057001e+04, -7.63823143e+02,\n",
       "        2.36185293e+03,  0.00000000e+00,  6.98406290e+03,  6.99252715e+03,\n",
       "       -9.08503059e+02, -7.78021057e+03, -5.28787642e+03, -9.46435798e+02,\n",
       "        4.90601580e+03,  9.01625269e+03, -1.05945648e+03, -2.22682615e+03,\n",
       "       -7.92934711e+03, -7.72621055e+02, -9.87581907e+02,  3.47721832e+03,\n",
       "       -5.17339775e+03, -6.32471191e+02, -2.87600139e+03,  3.75232772e+03,\n",
       "        1.45232429e+03, -2.06364621e+04,  3.86358172e+03,  0.00000000e+00,\n",
       "       -4.60889365e+02,  6.64325109e+02,  2.54191523e+03,  1.86082550e+03,\n",
       "        1.21667039e+04,  9.36083915e+02, -8.79473709e+02,  1.12894985e+03,\n",
       "        1.42598964e+04, -2.44374582e+02,  2.88748058e+03, -2.26340923e+03,\n",
       "        0.00000000e+00,  1.09690879e+03,  8.59494140e+02,  9.38144424e+02,\n",
       "       -5.71324685e+03, -1.89211661e+03, -7.07579234e+03, -4.03854482e+03,\n",
       "        8.41836874e+02,  1.16323681e+03, -1.28435840e+03,  6.48949341e+03,\n",
       "       -2.44374582e+02,  2.94865221e+02, -3.23019624e+02, -1.06073523e+02,\n",
       "       -2.60574368e+03, -6.78333735e+02, -4.66169727e+03, -3.46834566e+02,\n",
       "       -1.47904200e+03,  9.12626233e+02,  6.82417705e+03, -4.79675821e+03,\n",
       "       -5.60707021e+03, -6.37584350e+02,  3.76488027e+03,  2.58335006e+03,\n",
       "        8.35887584e+03,  2.44962165e+03, -2.45183717e+03, -8.35666032e+03,\n",
       "       -2.20070035e+02,  1.71293873e+03, -4.79110300e+02, -1.12266775e+03,\n",
       "        1.08909358e+02, -3.39048242e+03,  3.40851469e+03,  5.33477328e+03,\n",
       "       -4.48490058e+03,  9.01293929e+02, -1.76919889e+03,  2.01831703e+04,\n",
       "       -1.94017768e+03, -5.27593824e+03, -5.93784322e+03, -1.59703302e+03,\n",
       "        5.30012531e+02,  8.06820731e+02,  7.28941093e+03, -7.14965476e+02,\n",
       "        1.52817105e+04, -2.05273689e+03, -5.48479693e+03,  1.95452257e+03,\n",
       "        1.92987596e+03,  6.80447664e+03, -1.09033581e+03,  1.79158320e+03,\n",
       "       -4.36091139e+03,  4.35153443e+03, -3.01515148e+03, -3.94669436e+02,\n",
       "        2.18474021e+03, -8.64854182e+02,  4.76761163e+03, -4.78200051e+01,\n",
       "        1.80756094e+03,  2.32908804e+03,  1.54842594e+03, -5.80500306e+03,\n",
       "        1.67748149e+02,  2.89089294e+03, -1.44878282e+01, -2.50457471e+03,\n",
       "       -1.17857812e+03,  8.06747711e+02, -6.69752379e+02,  6.69752379e+02,\n",
       "       -2.55769708e+02, -1.31544178e+03, -3.59547040e+02,  0.00000000e+00,\n",
       "        3.82717901e+02,  1.33405121e+04,  9.49344954e+02, -5.69305978e+03,\n",
       "       -8.59679723e+03, -1.07736841e+03, -5.17023194e+03, -3.69242931e+03,\n",
       "       -7.01541172e+02,  4.61683223e+03, -3.57589881e+03,  9.60063742e+03,\n",
       "        7.73514128e+03, -1.92269939e+03, -1.85839373e+03, -7.12360673e+02,\n",
       "        2.44530881e+03, -5.75686103e+03, -6.14816665e+02,  3.03689272e+03,\n",
       "       -2.14430038e+02, -3.90124325e+02, -1.32963956e+03, -2.08245352e+03,\n",
       "       -2.47265168e+03, -7.13873698e+02,  6.88365733e+03, -8.54521778e+03,\n",
       "        6.06918980e+03, -1.25599965e+03, -8.42060859e+03, -9.20374977e+01,\n",
       "       -3.61097691e+03, -2.99251900e+01, -6.60277112e+02, -8.75762195e+02,\n",
       "       -5.60274366e+02, -1.65781533e+02,  7.26055899e+02,  3.14510670e+03,\n",
       "        8.52741704e+02, -1.01930492e+04,  1.60270856e+03, -8.93054451e+02,\n",
       "        1.44165279e+03, -2.43316080e+03, -7.63823143e+02, -5.54725810e+02,\n",
       "       -3.30878660e+03,  8.52741704e+02, -6.53723819e+03,  4.18890709e+03,\n",
       "        2.96914444e+03,  3.41806241e+03, -8.92903789e+02,  1.72071760e+03,\n",
       "        1.37136345e+03,  5.56527200e+02, -6.79458021e+03, -7.45131772e+03,\n",
       "        3.80596664e+02,  1.10681777e+04, -4.56678068e+03, -1.79341731e+03,\n",
       "        2.36274132e+03])"
      ]
     },
     "execution_count": 58,
     "metadata": {},
     "output_type": "execute_result"
    }
   ],
   "source": [
    "ridge.coef_"
   ]
  },
  {
   "cell_type": "code",
   "execution_count": null,
   "metadata": {},
   "outputs": [],
   "source": [
    "# number of Lasso params almost zero"
   ]
  },
  {
   "cell_type": "markdown",
   "metadata": {},
   "source": [
    "Lasso was very effective to essentially perform variable selection and remove about 25% of the variables from your model!"
   ]
  },
  {
   "cell_type": "code",
   "execution_count": null,
   "metadata": {},
   "outputs": [],
   "source": [
    "# your code here"
   ]
  },
  {
   "cell_type": "markdown",
   "metadata": {},
   "source": [
    "## Summary"
   ]
  },
  {
   "cell_type": "markdown",
   "metadata": {},
   "source": [
    "Great! You now know how to perform Lasso and Ridge regression."
   ]
  }
 ],
 "metadata": {
  "kernelspec": {
   "display_name": "Python 3",
   "language": "python",
   "name": "python3"
  },
  "language_info": {
   "codemirror_mode": {
    "name": "ipython",
    "version": 3
   },
   "file_extension": ".py",
   "mimetype": "text/x-python",
   "name": "python",
   "nbconvert_exporter": "python",
   "pygments_lexer": "ipython3",
   "version": "3.6.6"
  }
 },
 "nbformat": 4,
 "nbformat_minor": 2
}
